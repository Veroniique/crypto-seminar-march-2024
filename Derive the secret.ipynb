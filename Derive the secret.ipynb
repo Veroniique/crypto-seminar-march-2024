{
  "cells": [
    {
      "cell_type": "markdown",
      "metadata": {
        "id": "view-in-github",
        "colab_type": "text"
      },
      "source": [
        "<a href=\"https://colab.research.google.com/github/Veroniique/crypto-seminar-march-2024/blob/main/Derive%20the%20secret.ipynb\" target=\"_parent\"><img src=\"https://colab.research.google.com/assets/colab-badge.svg\" alt=\"Open In Colab\"/></a>"
      ]
    },
    {
      "cell_type": "markdown",
      "source": [
        "#Diffie-Hellman Key Exchange code challenge"
      ],
      "metadata": {
        "id": "1KcdxKDRbkal"
      }
    },
    {
      "cell_type": "code",
      "execution_count": null,
      "metadata": {
        "id": "LO1X8tk2a7qk"
      },
      "outputs": [],
      "source": [
        "import random\n",
        "from sympy import isprime\n",
        "\n",
        "g = 2 #Typical generator\n",
        "primes = [i for i in range(2**20,2**21) if isprime(i)]\n",
        "p = random.choice(primes) # Add a random, large prime to the parameters\n",
        "\n",
        "# Alice generates a random secret, a\n",
        "a = random.randint(1,p-2)\n",
        "\n",
        "# Separately, Bob generates a random secret, b\n",
        "b = random.randint(1,p-2)\n",
        "\n",
        "A = (g**a)%p\n",
        "B = (g**b)%p\n",
        "\n",
        "print(f\"Alice and Bob communicate to agree on common params, g={g}, p={p}\")\n",
        "print(f\"Alice secretly chooses a={a} and sends A=g^a mod p={A} to Bob\")\n",
        "print(f\"Bob secretly chooses b={b} and sends B=g^b mod p={B} to Alice\")\n",
        "\n",
        "s = (B**a)%p\n",
        "print(f\"Alice computes a shared secret key as s=(B^a) mod p={s}\")\n",
        "s = (A**b)%p\n",
        "print(f\"Bob computes a shared secret key as s=(A^b) mod p={s}\")"
      ]
    },
    {
      "cell_type": "markdown",
      "source": [
        "##Challenges\n",
        "If you capture $A$ on the network, can you discover the secret value $a$?"
      ],
      "metadata": {
        "id": "s04x76NKOFFK"
      }
    },
    {
      "cell_type": "markdown",
      "source": [
        "#### Small numbers\n",
        "Make a proof of concept bruteforce of small numbers"
      ],
      "metadata": {
        "id": "XtguFvwzYC0_"
      }
    },
    {
      "cell_type": "code",
      "source": [
        "# Given:\n",
        "g=2\n",
        "p=499\n",
        "A=16 # A=(g**a)%p has been intercepted on the wire!\n",
        "# What is the secret component, a?\n",
        "import random\n",
        "from sympy import isprime\n",
        "\n",
        "for a in range(p-2):\n",
        "  if(g**a%p) == A:\n",
        "     print(f'The answer is {a}')\n",
        "\n",
        "\n"
      ],
      "metadata": {
        "id": "1d3DkH3eXBTT"
      },
      "execution_count": null,
      "outputs": []
    },
    {
      "cell_type": "markdown",
      "source": [
        "#### Larger numbers\n",
        "Use your bruteforce routine to crack larger values"
      ],
      "metadata": {
        "id": "_LQH7U6dW6Jl"
      }
    },
    {
      "cell_type": "code",
      "source": [
        "# Given:\n",
        "g=2\n",
        "p=1286419\n",
        "A=633801 # A=(g**a)%p has been intercepted on the wire!\n",
        "# What is the secret component, a? (And how many possibilities are there?)\n",
        "for a in range(1,p-2):\n",
        "  if (g**a % p) == A:\n",
        "    print(f'a={a}')\n",
        "\n",
        "\n",
        "\n"
      ],
      "metadata": {
        "id": "ySzr11da4K3J"
      },
      "execution_count": null,
      "outputs": []
    },
    {
      "cell_type": "markdown",
      "source": [
        "### Decypt a secret message\n",
        "You've also captured $B$ and a secret message known to be encrypted with xor.\n",
        "Can you decrypt it? The secret message below was encrypted using the secret key,\n",
        "$s$, derived from $B$ below and $a$ from the larger numbers section above."
      ],
      "metadata": {
        "id": "rozD0UFBZy6A"
      }
    },
    {
      "cell_type": "code",
      "source": [
        "# You've captured the non-secret component B and a message that you know has\n",
        "# been encrypted with xor. Can you decrypt it?\n",
        "\n",
        "# Hint: You will need to increase the integer string conversion limit in the\n",
        "# Python run time:\n",
        "import sys\n",
        "sys.set_int_max_str_digits(900000)\n",
        "\n",
        "# Intercepted on the wire!\n",
        "B=203507\n",
        "secret_message=bytearray(b'8eTAPU\\x11rK@KVVX_O3')\n",
        "\n",
        "a=120489\n",
        "B=203507\n",
        "s=B**a\n",
        "\n",
        "def xor(string, key):\n",
        "  if isinstance(string,str) : string = bytearray(string, \"utf-8\")\n",
        "\n",
        "  key_bytes = bytearray(str(key), \"utf-8\")\n",
        "  encrypted_bytes = bytearray(len(string))\n",
        "\n",
        "  #Loop through each byte of the string\n",
        "  for i in range(len(string)):\n",
        "    #Use modulo to ensure key wraps around if it's longer\n",
        "    key_index = i % len(key_bytes)\n",
        "    #XOR each byte with the corresponding byte from the key\n",
        "    encrypted_bytes[i] = string[i] ^ key_bytes[key_index]\n",
        "\n",
        "    return encrypted_bytes\n",
        "\n",
        "    print(xor(secret_message,s)).decode('utf-8')"
      ],
      "metadata": {
        "id": "VfEr1s8aSvX-"
      },
      "execution_count": null,
      "outputs": []
    }
  ],
  "metadata": {
    "kernelspec": {
      "display_name": "Python 3",
      "name": "python3"
    },
    "language_info": {
      "codemirror_mode": {
        "name": "ipython",
        "version": 3
      },
      "file_extension": ".py",
      "mimetype": "text/x-python",
      "name": "python",
      "nbconvert_exporter": "python",
      "pygments_lexer": "ipython3",
      "version": "3.9.2"
    },
    "colab": {
      "private_outputs": true,
      "provenance": [],
      "include_colab_link": true
    }
  },
  "nbformat": 4,
  "nbformat_minor": 0
}